{
 "cells": [
  {
   "cell_type": "markdown",
   "id": "8ce87883",
   "metadata": {
    "papermill": {
     "duration": 0.004912,
     "end_time": "2023-04-07T02:31:03.649666",
     "exception": false,
     "start_time": "2023-04-07T02:31:03.644754",
     "status": "completed"
    },
    "tags": []
   },
   "source": [
    "# Titanic - Machine Learning from Disaster\n",
    "\n",
    "## This is the legendary Titanic ML competition \n",
    "\n",
    "Use machine learning to create a model that predicts which passengers survived the Titanic shipwreck\n",
    "\n",
    "### Data Dictionary\n",
    "\n",
    "| Variable | Definition | Key | Notes | \n",
    "|:----------|:------------|:----------|:----------|\n",
    "| survival | Survival | 0 = No, 1 = Yes ||\n",
    "| pclass | Ticket calss | 1 = First / Upper,<br /> 2 = Second / Middle,<br /> 3 = Third / Lower |  A proxy for socio-economic status (SES) | \n",
    "| sex | Sex | male, female ||\n",
    "| Age | Age in years ||Age is fractional if less than 1.<br /> If the age is estimated, is it in the form of xx.5|\n",
    "| sibsp | Number of Sibling / Spouses <br />aboard the Titanic ||Sibling = brother, sister, stepbrother, stepsister <br /> Spouse = husband, wife (mistresses and fiancés were ignored)|\n",
    "| parch | Number of Parents / Children <br />aboard the Titanic ||Parent = mother, father <br /> Child = daughter, son, stepdaughter, stepson <br />Some children travelled only with a nanny, therefore parch=0 for them.|\n",
    "| ticket | Ticket number |||\n",
    "| fare | Passenger fare |||\n",
    "| cabin | Cabin number |||\n",
    "| embarked | Port of Embarkation | C = Cherbourg,<br /> Q = Queenstown,<br /> S = Southampton||\n"
   ]
  },
  {
   "cell_type": "code",
   "execution_count": 1,
   "id": "990afcaf",
   "metadata": {
    "_cell_guid": "b1076dfc-b9ad-4769-8c92-a6c4dae69d19",
    "_uuid": "8f2839f25d086af736a60e9eeb907d3b93b6e0e5",
    "execution": {
     "iopub.execute_input": "2023-04-07T02:31:03.660196Z",
     "iopub.status.busy": "2023-04-07T02:31:03.659069Z",
     "iopub.status.idle": "2023-04-07T02:31:03.680161Z",
     "shell.execute_reply": "2023-04-07T02:31:03.678563Z"
    },
    "papermill": {
     "duration": 0.031049,
     "end_time": "2023-04-07T02:31:03.684019",
     "exception": false,
     "start_time": "2023-04-07T02:31:03.652970",
     "status": "completed"
    },
    "tags": []
   },
   "outputs": [
    {
     "name": "stdout",
     "output_type": "stream",
     "text": [
      "/kaggle/input/titanic/train.csv\n",
      "/kaggle/input/titanic/test.csv\n",
      "/kaggle/input/titanic/gender_submission.csv\n"
     ]
    }
   ],
   "source": [
    "# This Python 3 environment comes with many helpful analytics libraries installed\n",
    "# It is defined by the kaggle/python Docker image: https://github.com/kaggle/docker-python\n",
    "# For example, here's several helpful packages to load\n",
    "\n",
    "import numpy as np # linear algebra\n",
    "import pandas as pd # data processing, CSV file I/O (e.g. pd.read_csv)\n",
    "\n",
    "# Input data files are available in the read-only \"../input/\" directory\n",
    "# For example, running this (by clicking run or pressing Shift+Enter) will list all files under the input directory\n",
    "\n",
    "import os\n",
    "for dirname, _, filenames in os.walk('/kaggle/input'):\n",
    "    for filename in filenames:\n",
    "        print(os.path.join(dirname, filename))\n",
    "\n",
    "# You can write up to 20GB to the current directory (/kaggle/working/) that gets preserved as output when you create a version using \"Save & Run All\" \n",
    "# You can also write temporary files to /kaggle/temp/, but they won't be saved outside of the current session"
   ]
  },
  {
   "cell_type": "code",
   "execution_count": 2,
   "id": "97944320",
   "metadata": {
    "execution": {
     "iopub.execute_input": "2023-04-07T02:31:03.691551Z",
     "iopub.status.busy": "2023-04-07T02:31:03.690061Z",
     "iopub.status.idle": "2023-04-07T02:31:03.720795Z",
     "shell.execute_reply": "2023-04-07T02:31:03.719448Z"
    },
    "papermill": {
     "duration": 0.037558,
     "end_time": "2023-04-07T02:31:03.723957",
     "exception": false,
     "start_time": "2023-04-07T02:31:03.686399",
     "status": "completed"
    },
    "tags": []
   },
   "outputs": [],
   "source": [
    "# Read the gender submission data\n",
    "gender = pd.read_csv('../input/titanic/gender_submission.csv')\n",
    "\n",
    "# Read the test data\n",
    "test = pd.read_csv('../input/titanic/test.csv')\n",
    "\n",
    "\n",
    "# Read the train data\n",
    "train = pd.read_csv('../input/titanic/test.csv')\n",
    "\n"
   ]
  }
 ],
 "metadata": {
  "kernelspec": {
   "display_name": "Python 3",
   "language": "python",
   "name": "python3"
  },
  "language_info": {
   "codemirror_mode": {
    "name": "ipython",
    "version": 3
   },
   "file_extension": ".py",
   "mimetype": "text/x-python",
   "name": "python",
   "nbconvert_exporter": "python",
   "pygments_lexer": "ipython3",
   "version": "3.7.12"
  },
  "papermill": {
   "default_parameters": {},
   "duration": 11.299804,
   "end_time": "2023-04-07T02:31:04.448940",
   "environment_variables": {},
   "exception": null,
   "input_path": "__notebook__.ipynb",
   "output_path": "__notebook__.ipynb",
   "parameters": {},
   "start_time": "2023-04-07T02:30:53.149136",
   "version": "2.4.0"
  }
 },
 "nbformat": 4,
 "nbformat_minor": 5
}
